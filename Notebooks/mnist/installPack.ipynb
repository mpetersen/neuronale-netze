{
 "cells": [
  {
   "cell_type": "code",
   "execution_count": 1,
   "metadata": {},
   "outputs": [
    {
     "name": "stdout",
     "output_type": "stream",
     "text": [
      "Requirement already satisfied: numpy in /opt/conda/lib/python3.7/site-packages (1.15.4)\r\n"
     ]
    }
   ],
   "source": [
    "# Install a pip package in the current Jupyter kernel\n",
    "import sys\n",
    "!{sys.executable} -m pip install numpy"
   ]
  },
  {
   "cell_type": "code",
   "execution_count": 2,
   "metadata": {},
   "outputs": [
    {
     "name": "stdout",
     "output_type": "stream",
     "text": [
      "Requirement already satisfied: scipy in /opt/conda/lib/python3.7/site-packages (1.1.0)\r\n",
      "Requirement already satisfied: numpy>=1.8.2 in /opt/conda/lib/python3.7/site-packages (from scipy) (1.15.4)\r\n"
     ]
    }
   ],
   "source": [
    "!{sys.executable} -m pip install scipy"
   ]
  },
  {
   "cell_type": "code",
   "execution_count": 3,
   "metadata": {},
   "outputs": [
    {
     "name": "stdout",
     "output_type": "stream",
     "text": [
      "Collecting matplotlib\n",
      "\u001b[?25l  Downloading https://files.pythonhosted.org/packages/e7/f9/5377596cb1c035c102396f5934237a046f80da69974026f90bee5db8b7ba/matplotlib-3.0.2-cp37-cp37m-manylinux1_x86_64.whl (12.9MB)\n",
      "\u001b[K    100% |████████████████████████████████| 12.9MB 71kB/s eta 0:00:01  2% |█                               | 378kB 1.4MB/s eta 0:00:10    6% |██                              | 808kB 873kB/s eta 0:00:14    7% |██▍                             | 972kB 575kB/s eta 0:00:21    8% |██▋                             | 1.0MB 681kB/s eta 0:00:18    8% |██▊                             | 1.1MB 551kB/s eta 0:00:22    9% |███                             | 1.2MB 626kB/s eta 0:00:19    11% |███▋                            | 1.5MB 1.0MB/s eta 0:00:12    13% |████▎                           | 1.7MB 1.1MB/s eta 0:00:10    13% |████▌                           | 1.8MB 994kB/s eta 0:00:12    15% |████▉                           | 1.9MB 1.2MB/s eta 0:00:10    16% |█████▏                          | 2.1MB 1.1MB/s eta 0:00:10    17% |█████▌                          | 2.2MB 1.2MB/s eta 0:00:10    19% |██████▎                         | 2.5MB 1.1MB/s eta 0:00:10    21% |███████                         | 2.8MB 1.2MB/s eta 0:00:09    23% |███████▌                        | 3.0MB 1.2MB/s eta 0:00:09    24% |███████▊                        | 3.1MB 1.4MB/s eta 0:00:07    24% |███████▉                        | 3.2MB 1.3MB/s eta 0:00:08    29% |█████████▎                      | 3.7MB 1.1MB/s eta 0:00:09    30% |█████████▋                      | 3.9MB 1.1MB/s eta 0:00:09    36% |███████████▊                    | 4.7MB 584kB/s eta 0:00:14    41% |█████████████▎                  | 5.4MB 414kB/s eta 0:00:19    56% |██████████████████▏             | 7.3MB 410kB/s eta 0:00:14    60% |███████████████████▎            | 7.8MB 209kB/s eta 0:00:25    60% |███████████████████▎            | 7.8MB 181kB/s eta 0:00:29    72% |███████████████████████▏        | 9.3MB 492kB/s eta 0:00:08    74% |███████████████████████▉        | 9.6MB 398kB/s eta 0:00:09    82% |██████████████████████████▌     | 10.7MB 584kB/s eta 0:00:04    84% |███████████████████████████     | 10.9MB 565kB/s eta 0:00:04    85% |███████████████████████████▎    | 11.0MB 585kB/s eta 0:00:04    87% |████████████████████████████    | 11.3MB 560kB/s eta 0:00:03    87% |████████████████████████████▏   | 11.3MB 588kB/s eta 0:00:03    88% |████████████████████████████▎   | 11.4MB 637kB/s eta 0:00:03    89% |████████████████████████████▋   | 11.5MB 338kB/s eta 0:00:05    89% |████████████████████████████▊   | 11.6MB 371kB/s eta 0:00:04    90% |█████████████████████████████   | 11.7MB 723kB/s eta 0:00:02    91% |█████████████████████████████▎  | 11.8MB 596kB/s eta 0:00:02    91% |█████████████████████████████▎  | 11.8MB 503kB/s eta 0:00:03    91% |█████████████████████████████▍  | 11.8MB 517kB/s eta 0:00:02    92% |█████████████████████████████▌  | 11.9MB 514kB/s eta 0:00:02    94% |██████████████████████████████▏ | 12.2MB 423kB/s eta 0:00:02    97% |███████████████████████████████▏| 12.6MB 579kB/s eta 0:00:01    98% |███████████████████████████████▋| 12.7MB 646kB/s eta 0:00:01    99% |███████████████████████████████▉| 12.8MB 532kB/s eta 0:00:01\n",
      "\u001b[?25hRequirement already satisfied: python-dateutil>=2.1 in /opt/conda/lib/python3.7/site-packages (from matplotlib) (2.7.5)\n",
      "Collecting cycler>=0.10 (from matplotlib)\n",
      "  Downloading https://files.pythonhosted.org/packages/f7/d2/e07d3ebb2bd7af696440ce7e754c59dd546ffe1bbe732c8ab68b9c834e61/cycler-0.10.0-py2.py3-none-any.whl\n",
      "Collecting kiwisolver>=1.0.1 (from matplotlib)\n",
      "\u001b[?25l  Downloading https://files.pythonhosted.org/packages/5c/7e/d6cae2f241ba474a2665f24b480bf4e247036d63939dda2bbc4d2ee5069d/kiwisolver-1.0.1-cp37-cp37m-manylinux1_x86_64.whl (89kB)\n",
      "\u001b[K    100% |████████████████████████████████| 92kB 503kB/s ta 0:00:01\n",
      "\u001b[?25hCollecting pyparsing!=2.0.4,!=2.1.2,!=2.1.6,>=2.0.1 (from matplotlib)\n",
      "\u001b[?25l  Downloading https://files.pythonhosted.org/packages/71/e8/6777f6624681c8b9701a8a0a5654f3eb56919a01a78e12bf3c73f5a3c714/pyparsing-2.3.0-py2.py3-none-any.whl (59kB)\n",
      "\u001b[K    100% |████████████████████████████████| 61kB 522kB/s ta 0:00:01\n",
      "\u001b[?25hRequirement already satisfied: numpy>=1.10.0 in /opt/conda/lib/python3.7/site-packages (from matplotlib) (1.15.4)\n",
      "Requirement already satisfied: six>=1.5 in /opt/conda/lib/python3.7/site-packages (from python-dateutil>=2.1->matplotlib) (1.11.0)\n",
      "Requirement already satisfied: setuptools in /opt/conda/lib/python3.7/site-packages (from kiwisolver>=1.0.1->matplotlib) (40.6.2)\n",
      "Installing collected packages: cycler, kiwisolver, pyparsing, matplotlib\n",
      "Successfully installed cycler-0.10.0 kiwisolver-1.0.1 matplotlib-3.0.2 pyparsing-2.3.0\n"
     ]
    }
   ],
   "source": [
    "!{sys.executable} -m pip install matplotlib"
   ]
  },
  {
   "cell_type": "code",
   "execution_count": null,
   "metadata": {},
   "outputs": [],
   "source": []
  }
 ],
 "metadata": {
  "kernelspec": {
   "display_name": "Python 3",
   "language": "python",
   "name": "python3"
  },
  "language_info": {
   "codemirror_mode": {
    "name": "ipython",
    "version": 3
   },
   "file_extension": ".py",
   "mimetype": "text/x-python",
   "name": "python",
   "nbconvert_exporter": "python",
   "pygments_lexer": "ipython3",
   "version": "3.7.1"
  }
 },
 "nbformat": 4,
 "nbformat_minor": 2
}
